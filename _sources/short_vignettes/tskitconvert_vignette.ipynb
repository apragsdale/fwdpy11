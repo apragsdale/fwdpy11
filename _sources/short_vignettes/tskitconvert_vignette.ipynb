{
 "cells": [
  {
   "cell_type": "markdown",
   "id": "mental-customer",
   "metadata": {},
   "source": [
    "(tskitconvert_vignette)=\n",
    "\n",
    "# Converting data to tskit format"
   ]
  },
  {
   "cell_type": "code",
   "execution_count": 1,
   "id": "downtown-silver",
   "metadata": {},
   "outputs": [
    {
     "data": {
      "text/plain": [
       "17"
      ]
     },
     "execution_count": 1,
     "metadata": {},
     "output_type": "execute_result"
    }
   ],
   "source": [
    "import msprime\n",
    "import fwdpy11\n",
    "\n",
    "# Random number generators are initialized with seeds\n",
    "rng = fwdpy11.GSLrng(12345)\n",
    "N = 100\n",
    "L = 1000.0\n",
    "ts = msprime.simulate(2*N, Ne = N, length=L, recombination_rate = 1e-3, random_seed = 42)\n",
    "pop = fwdpy11.DiploidPopulation.create_from_tskit(ts)\n",
    "fwdpy11.infinite_sites(rng, pop, 1e-2)"
   ]
  },
  {
   "cell_type": "markdown",
   "id": "available-graduate",
   "metadata": {},
   "source": [
    ":::{todo}\n",
    "Finish once issue 656 is fixed\n",
    ":::"
   ]
  }
 ],
 "metadata": {
  "jupytext": {
   "formats": "md:myst",
   "text_representation": {
    "extension": ".md",
    "format_name": "myst"
   }
  },
  "kernelspec": {
   "display_name": "Python 3",
   "language": "python",
   "name": "python3"
  },
  "language_info": {
   "codemirror_mode": {
    "name": "ipython",
    "version": 3
   },
   "file_extension": ".py",
   "mimetype": "text/x-python",
   "name": "python",
   "nbconvert_exporter": "python",
   "pygments_lexer": "ipython3",
   "version": "3.8.7"
  },
  "source_map": [
   11,
   17,
   28
  ]
 },
 "nbformat": 4,
 "nbformat_minor": 5
}