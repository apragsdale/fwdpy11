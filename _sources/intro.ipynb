{
 "cells": [
  {
   "cell_type": "markdown",
   "id": "creative-rescue",
   "metadata": {},
   "source": [
    "# Introduction\n",
    "\n",
    "## Version\n",
    "\n",
    "This manual is built with the following version of `fwdpy11`:"
   ]
  },
  {
   "cell_type": "code",
   "execution_count": 1,
   "id": "developing-accreditation",
   "metadata": {
    "tags": [
     "hide-input"
    ]
   },
   "outputs": [
    {
     "data": {
      "text/plain": [
       "'0.1.dev1+n57a337f'"
      ]
     },
     "execution_count": 1,
     "metadata": {},
     "output_type": "execute_result"
    }
   ],
   "source": [
    "import fwdpy11\n",
    "fwdpy11.__version__"
   ]
  },
  {
   "cell_type": "markdown",
   "id": "premier-cricket",
   "metadata": {},
   "source": [
    "```{toctree}\n",
    ":hidden:\n",
    ":titlesonly:\n",
    ":caption: Miscellany\n",
    "\n",
    "misc/changelog\n",
    "misc/deprecated\n",
    "misc/developersguide\n",
    "misc/pubs\n",
    "misc/upgrade_path\n",
    "misc/bibliography\n",
    "```\n",
    "\n",
    "\n",
    "```{toctree}\n",
    ":hidden:\n",
    ":titlesonly:\n",
    ":caption: Installation and setup\n",
    "\n",
    "pages/userenv\n",
    "```\n",
    "\n",
    "\n",
    "```{toctree}\n",
    ":hidden:\n",
    ":titlesonly:\n",
    ":caption: Concepts\n",
    "\n",
    "pages/definitions\n",
    "```\n",
    "\n",
    "\n",
    "```{toctree}\n",
    ":hidden:\n",
    ":titlesonly:\n",
    ":caption: Tutorials\n",
    "\n",
    "pages/tutorial\n",
    "pages/advancedtopics\n",
    "```\n",
    "\n",
    "\n",
    "```{toctree}\n",
    ":hidden:\n",
    ":titlesonly:\n",
    ":caption: Objects and concepts\n",
    "\n",
    "pages/softselection\n",
    "pages/mvdes\n",
    "pages/tsoverview\n",
    "pages/tstypes\n",
    "pages/tablefs\n",
    "pages/recorders\n",
    "```\n",
    "\n",
    "\n",
    "```{toctree}\n",
    ":hidden:\n",
    ":titlesonly:\n",
    ":caption: Technical details\n",
    "\n",
    "technical/genetic_values\n",
    "technical/writingplugins\n",
    "```\n",
    "\n",
    "\n",
    "```{toctree}\n",
    ":hidden:\n",
    ":titlesonly:\n",
    ":caption: Data types and fuctions\n",
    "\n",
    "pages/genetic_values\n",
    "pages/datamatrix\n",
    "pages/demographic_models\n",
    "pages/functions\n",
    "pages/gslrandom\n",
    "pages/gvaluenoise\n",
    "pages/gvalue_to_fitness\n",
    "pages/model_params\n",
    "pages/regiontypes\n",
    "pages/tskit_tools\n",
    "pages/types\n",
    "```\n",
    "\n",
    "\n",
    "```{toctree}\n",
    ":hidden:\n",
    ":titlesonly:\n",
    ":caption: Examples\n",
    "\n",
    "examples/bgs\n",
    "examples/gss_divergent_optima\n",
    "examples/gss\n",
    "examples/IM\n",
    "examples/localadaptation\n",
    "examples/migtest\n",
    "examples/precapitation\n",
    "examples/pysnowdrift\n",
    "examples/recapitation\n",
    "examples/recorder\n",
    "```"
   ]
  }
 ],
 "metadata": {
  "jupytext": {
   "formats": "md:myst",
   "text_representation": {
    "extension": ".md",
    "format_name": "myst"
   }
  },
  "kernelspec": {
   "display_name": "Python 3",
   "language": "python",
   "name": "python3"
  },
  "language_info": {
   "codemirror_mode": {
    "name": "ipython",
    "version": 3
   },
   "file_extension": ".py",
   "mimetype": "text/x-python",
   "name": "python",
   "nbconvert_exporter": "python",
   "pygments_lexer": "ipython3",
   "version": "3.8.7"
  },
  "source_map": [
   11,
   19,
   25
  ]
 },
 "nbformat": 4,
 "nbformat_minor": 5
}